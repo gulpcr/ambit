{
  "cells": [
    {
      "cell_type": "markdown",
      "metadata": {
        "id": "yMOpOuAtwwFo"
      },
      "source": [
        "<table align=\"left\">\n",
        "  <td>\n",
        "    <a target=\"_blank\" href=\"https://colab.research.google.com/github/twelvelabs-io/twelvelabs-developer-experience/blob/main/quickstarts/TwelveLabs_Quickstart_Search.ipynb\"><img src=\"https://www.tensorflow.org/images/colab_logo_32px.png\" />Run in  Colab</a>\n",
        "  </td>\n",
        "</table>"
      ]
    },
    {
      "cell_type": "markdown",
      "metadata": {
        "id": "VmpYRcFNT30r"
      },
      "source": [
        "##**Installation of TwelveLabs SDKs**"
      ]
    },
    {
      "cell_type": "code",
      "execution_count": 1,
      "metadata": {
        "id": "ME3drNyaS-dV"
      },
      "outputs": [],
      "source": [
        "!pip install -U -q twelvelabs\n",
        "from twelvelabs import TwelveLabs\n",
        "from twelvelabs.models.task import Task"
      ]
    },
    {
      "cell_type": "markdown",
      "metadata": {
        "id": "PQ-gihrzrsm7"
      },
      "source": []
    },
    {
      "cell_type": "markdown",
      "metadata": {
        "id": "G47PrcTKUJEP"
      },
      "source": [
        "##**Configure your API key. Add API Key as a env variable.**\n",
        "Signup for TwelveLabs and Get your API keys [here](https://playground.twelvelabs.xyz/dashboard/api-key). No credit card is required to use the Free plan. The Free plan includes indexing of 600 mins of videos, which is enough for a small project.\n",
        "\n",
        "*To run the following cell in a*\n",
        "* *Colab Notebook, your API key must be stored it in a Colab Secret named TL_API_KEY. If you don't already have an API key, or you're not sure how to create a Colab Secret, see [this](https://medium.com/@parthdasawant/how-to-use-secrets-in-google-colab-450c38e3ec75) for an example.*\n",
        "* *In other Python environments, You can also use Python variables using `os.environ()`*\n",
        "\n"
      ]
    },
    {
      "cell_type": "code",
      "execution_count": null,
      "metadata": {
        "id": "9DBGRVboTEue"
      },
      "outputs": [],
      "source": [
        "from google.colab import userdata\n",
        "TL_API_KEY=userdata.get('TL_API_KEY')"
      ]
    },
    {
      "cell_type": "markdown",
      "metadata": {
        "id": "zhXzSOCgUdmv"
      },
      "source": [
        "## **Step:1 - Create Index (You can also use an existing Index)**\n",
        "Two main inputs needed for Index creation is the Engine Type and Engine Options. Learn more [here](https://docs.twelvelabs.io/docs/create-indexes).\n",
        "\n",
        "**Twelve Labs provides two distinct engine types** - embedding and generative, each serving unique purposes in multimodal video understanding.\n",
        "\n",
        "* Embedding engines (Marengo) : `marengo2.6` engine is proficient at performing tasks such as search and classification, enabling enhanced video understanding.\n",
        "* Generative engines (Pegasus): `pegasus1` engine generates text based on your videos.\n",
        "Learn more [here](https://docs.twelvelabs.io/docs/video-understanding-engines)\n",
        "\n",
        "> *Video Duration limits: For Marengo, it must be between 4 seconds and 2 hours (7,200s). For Pegasus, it must be between 4 seconds and 20 minutes (1200s). In a future release, the maximum duration for Pegasus will be 2 hours (7,200 seconds).*\n",
        "\n",
        "\n",
        "You can use both engines on the same index but the limits of Pegasus will apply. E.g. If you create an Index with both `Marengo` and `Pegasus` then you will be limited to videos with maximum duration of 20mins.\n",
        "\n",
        "**Engine options** indicate the types of information a video understanding engine will process. When creating a new index, you must specify the engines and the associated engines options that you want to enable.\n",
        "\n",
        "The following engine options are available:\n",
        "\n",
        "* `visual`: This option allows you to analyze video content as you would see and hear from it, including actions, objects, sounds, and events, and excluding human speech.\n",
        "* `conversation`: This option allows you to analyze human speech within your videos.\n",
        "* `text_in_video`: This option allows you to detect and extract text (OCR) shown within your videos. *This option is not available for `Pegasus` Engine type.*\n",
        "* `logo`: This option allows you to identify the presence of brand logos within your videos. *This option is not available for `Pegasus` Engine type.*"
      ]
    },
    {
      "cell_type": "code",
      "execution_count": null,
      "metadata": {
        "colab": {
          "base_uri": "https://localhost:8080/"
        },
        "id": "elAj0cm1Upaa",
        "outputId": "59e1f01d-0d08-47dd-f737-afd860bb65ad"
      },
      "outputs": [
        {
          "name": "stdout",
          "output_type": "stream",
          "text": [
            "Created index: id=6660dd8ce6fb7df29de0e589 name=Temp-1 engines=root=[Engine(name='marengo2.6', options=['visual', 'conversation', 'text_in_video'], addons=None)]\n"
          ]
        }
      ],
      "source": [
        "import os\n",
        "from glob import glob\n",
        "# The path to the directory containing the videos you wish to upload.\n",
        "VIDEO_PATH = \"men-whoa-whoa-whoa-s97.mp4\"  # In a colab Notebook, just upload the file in the root folder and just give the filename.\n",
        "\n",
        "client = TwelveLabs(api_key=TL_API_KEY)\n",
        "\n",
        "index = client.index.create(\n",
        "    name=\"Temp-1\",\n",
        "    engines=[\n",
        "        {\n",
        "            \"name\": \"marengo2.6\",\n",
        "            \"options\": [\"visual\", \"conversation\", \"text_in_video\"],\n",
        "        }\n",
        "    ],\n",
        "    addons=[\"thumbnail\"], # Optional\n",
        ")\n",
        "print(f\"Created index: id={index.id} name={index.name} engines={index.engines}\")\n"
      ]
    },
    {
      "cell_type": "markdown",
      "metadata": {
        "id": "Sh2Z1mm2XXKg"
      },
      "source": [
        "## **Step:2 - Upload videos to an Index**\n",
        "\n",
        "The video you wish to upload must meet the following requirements:\n",
        "* Video resolution: Must be greater or equal than 360p and less or equal than 4K. For consistent search results, Twelve Labs recommends you upload 360p videos.\n",
        "* Video and audio formats: The video files you wish to upload must be encoded in the video and audio formats listed on the FFmpeg Formats Documentation page. For videos in other formats, contact us at support@twelvelabs.io.\n",
        "* Duration: For Marengo, it must be between 4 seconds and 2 hours (7,200s). For Pegasus, it must be between 4 seconds and 20 minutes (1200s). In a future release, the maximum duration for Pegasus will be 2 hours (7,200 seconds).\n",
        "* File size: Must not exceed 2 GB.\n",
        "* Audio track: If the conversation engine option is selected, the video you're uploading must contain an audio track.\n",
        "\n",
        "Learn more in [docs](https://docs.twelvelabs.io/docs/upload-single-videos)"
      ]
    },
    {
      "cell_type": "code",
      "execution_count": null,
      "metadata": {
        "colab": {
          "base_uri": "https://localhost:8080/"
        },
        "id": "nCFHUlrBXaxy",
        "outputId": "bf05af19-0cdb-4f5e-f342-0ad5f76308da"
      },
      "outputs": [
        {
          "name": "stdout",
          "output_type": "stream",
          "text": [
            "Uploading men-whoa-whoa-whoa-s97.mp4\n",
            "Created task: id=6660dd9be6fb7df29de0e58a\n",
            "  Status=pending\n",
            "  Status=pending\n",
            "  Status=indexing\n",
            "  Status=ready\n",
            "Uploaded men-whoa-whoa-whoa-s97.mp4. The unique identifer of your video is 6660dd9cd22b3a3c97bf134c.\n"
          ]
        }
      ],
      "source": [
        "video_files = glob(VIDEO_PATH)\n",
        "if(len(video_files)==0):\n",
        "  raise Exception(\"Video file was not provided\")\n",
        "for video_file in video_files:\n",
        "  print(f\"Uploading {video_file}\")\n",
        "  task = client.task.create(index_id=index.id, file=video_file, language=\"en\")\n",
        "  print(f\"Created task: id={task.id}\")\n",
        "\n",
        "  # (Optional) Monitor the video indexing process\n",
        "  # Utility function to print the status of a video indexing task\n",
        "  def on_task_update(task: Task):\n",
        "          print(f\"  Status={task.status}\")\n",
        "  task.wait_for_done(sleep_interval=50, callback=on_task_update)\n",
        "  if task.status != \"ready\":\n",
        "      raise RuntimeError(f\"Indexing failed with status {task.status}\")\n",
        "  print(f\"Uploaded {video_file}. The unique identifer of your video is {task.video_id}.\")\n"
      ]
    },
    {
      "cell_type": "markdown",
      "metadata": {
        "id": "qNhC07lCYGHg"
      },
      "source": [
        "## **Step:3 - Search By Text**\n",
        "*Soon, you can also perform search by an Image.*"
      ]
    },
    {
      "cell_type": "code",
      "execution_count": null,
      "metadata": {
        "colab": {
          "base_uri": "https://localhost:8080/"
        },
        "id": "SeGb7DSpYHjT",
        "outputId": "1c991d1f-5c2b-4c69-cf41-3562b9a308b4"
      },
      "outputs": [
        {
          "name": "stdout",
          "output_type": "stream",
          "text": [
            " video_id=6660dd9cd22b3a3c97bf134c score=69.0 start=0.0 end=5.0 confidence=low\n"
          ]
        }
      ],
      "source": [
        "#Search Query\n",
        "search_results = client.search.query(index_id=index.id, query=\"A green color person talking\", options=[\"visual\", \"conversation\"])\n",
        "\n",
        "# Utility function to print a specific page\n",
        "def print_page(page):\n",
        "  for clip in page:\n",
        "    print(\n",
        "        f\" video_id={clip.video_id} score={clip.score} start={clip.start} end={clip.end} confidence={clip.confidence}\"\n",
        "    )\n",
        "print_page(search_results.data)\n",
        "while True:\n",
        "    try:\n",
        "        print_page(next(search_results))\n",
        "    except StopIteration:\n",
        "        break"
      ]
    }
  ],
  "metadata": {
    "colab": {
      "provenance": []
    },
    "kernelspec": {
      "display_name": "Python 3",
      "name": "python3"
    },
    "language_info": {
      "name": "python"
    }
  },
  "nbformat": 4,
  "nbformat_minor": 0
}